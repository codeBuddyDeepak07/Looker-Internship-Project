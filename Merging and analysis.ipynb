{
 "cells": [
  {
   "cell_type": "code",
   "execution_count": 2,
   "id": "b3239453-46fa-4244-94d8-64109f47dfd5",
   "metadata": {},
   "outputs": [
    {
     "name": "stdout",
     "output_type": "stream",
     "text": [
      "Collecting pymysql\n",
      "  Obtaining dependency information for pymysql from https://files.pythonhosted.org/packages/0c/94/e4181a1f6286f545507528c78016e00065ea913276888db2262507693ce5/PyMySQL-1.1.1-py3-none-any.whl.metadata\n",
      "  Downloading PyMySQL-1.1.1-py3-none-any.whl.metadata (4.4 kB)\n",
      "Downloading PyMySQL-1.1.1-py3-none-any.whl (44 kB)\n",
      "   ---------------------------------------- 0.0/45.0 kB ? eta -:--:--\n",
      "   --------- ------------------------------ 10.2/45.0 kB ? eta -:--:--\n",
      "   ------------------------------------ --- 41.0/45.0 kB 495.5 kB/s eta 0:00:01\n",
      "   ---------------------------------------- 45.0/45.0 kB 445.3 kB/s eta 0:00:00\n",
      "Installing collected packages: pymysql\n",
      "Successfully installed pymysql-1.1.1\n",
      "Note: you may need to restart the kernel to use updated packages.\n"
     ]
    },
    {
     "name": "stderr",
     "output_type": "stream",
     "text": [
      "\n",
      "[notice] A new release of pip is available: 23.2.1 -> 25.1.1\n",
      "[notice] To update, run: python.exe -m pip install --upgrade pip\n"
     ]
    }
   ],
   "source": [
    "pip install pymysql"
   ]
  },
  {
   "cell_type": "code",
   "execution_count": 2,
   "id": "e958ce5e-6cee-49a9-a22a-256d392a9e02",
   "metadata": {},
   "outputs": [],
   "source": [
    "import pandas as pd \n",
    "import pymysql "
   ]
  },
  {
   "cell_type": "code",
   "execution_count": 3,
   "id": "4aa5dac8-da99-49cd-9035-e9f1f52c013a",
   "metadata": {},
   "outputs": [],
   "source": [
    "db_config = {\n",
    "    \"host\": \"localhost\",  \n",
    "    \"user\": \"root\",       \n",
    "    \"password\": \"krishna\",  \n",
    "    \"database\": \"sales\"  \n",
    "}"
   ]
  },
  {
   "cell_type": "code",
   "execution_count": 4,
   "id": "412f9156-d5de-48a0-9a8f-9db30637d3a4",
   "metadata": {},
   "outputs": [],
   "source": [
    "from IPython.display import display"
   ]
  },
  {
   "cell_type": "code",
   "execution_count": 6,
   "id": "a4d0ccda-3081-499b-8ee4-bdc8ef093caf",
   "metadata": {},
   "outputs": [],
   "source": [
    "import os\n",
    "\n",
    "db_config = {\n",
    "    \"host\": \"localhost\",  \n",
    "    \"user\": \"root\",       \n",
    "    \"password\": \"krishna\",  \n",
    "    \"database\": \"sales\"  \n",
    "}"
   ]
  },
  {
   "cell_type": "code",
   "execution_count": 10,
   "id": "d1b7af30-345f-420d-b648-722d0fdc879b",
   "metadata": {},
   "outputs": [],
   "source": [
    "output_folder = r\"D:\\project\"  \n",
    "os.makedirs(output_folder, exist_ok=True)\n",
    "tables = [\"order_detail\", \"sku_detail\", \"payment_detail\",\"customer_detail\"]"
   ]
  },
  {
   "cell_type": "code",
   "execution_count": 11,
   "id": "467b9e77-318f-4b8c-8731-2f5cc838c52d",
   "metadata": {},
   "outputs": [
    {
     "name": "stdout",
     "output_type": "stream",
     "text": [
      "Database connection successful!\n",
      "Exporting table: order_detail\n"
     ]
    },
    {
     "name": "stderr",
     "output_type": "stream",
     "text": [
      "C:\\Users\\Dell\\AppData\\Local\\Temp\\ipykernel_3824\\1590211234.py:13: UserWarning: pandas only supports SQLAlchemy connectable (engine/connection) or database string URI or sqlite3 DBAPI2 connection. Other DBAPI2 objects are not tested. Please consider using SQLAlchemy.\n",
      "  df = pd.read_sql(query, connection)\n"
     ]
    },
    {
     "name": "stdout",
     "output_type": "stream",
     "text": [
      "Table order_detail exported successfully to D:\\project\\order_detail.csv.\n",
      "Exporting table: sku_detail\n",
      "Table sku_detail exported successfully to D:\\project\\sku_detail.csv.\n",
      "Exporting table: payment_detail\n",
      "Table payment_detail exported successfully to D:\\project\\payment_detail.csv.\n",
      "Exporting table: customer_detail\n",
      "Table customer_detail exported successfully to D:\\project\\customer_detail.csv.\n",
      "Database connection closed.\n"
     ]
    }
   ],
   "source": [
    "try:\n",
    "    # Connect to the database\n",
    "    connection = pymysql.connect(**db_config)\n",
    "    print(\"Database connection successful!\")\n",
    "\n",
    "    for table in tables:\n",
    "        print(f\"Exporting table: {table}\")\n",
    "        \n",
    "        # SQL query to fetch all data from the table\n",
    "        query = f\"SELECT * FROM {table};\"\n",
    "        \n",
    "        # Read table data into a DataFrame\n",
    "        df = pd.read_sql(query, connection)\n",
    "        \n",
    "        # Save the DataFrame to a CSV file\n",
    "        output_file = os.path.join(output_folder, f\"{table}.csv\")\n",
    "        df.to_csv(output_file, index=False)\n",
    "        \n",
    "        print(f\"Table {table} exported successfully to {output_file}.\")\n",
    "\n",
    "except Exception as e:\n",
    "    print(f\"An error occurred: {e}\")\n",
    "finally:\n",
    "    if connection:\n",
    "        connection.close()\n",
    "        print(\"Database connection closed.\")"
   ]
  },
  {
   "cell_type": "code",
   "execution_count": 12,
   "id": "e70846c3-4242-4886-ac5a-3532f1218563",
   "metadata": {},
   "outputs": [
    {
     "name": "stdout",
     "output_type": "stream",
     "text": [
      "<class 'pandas.core.frame.DataFrame'>\n",
      "RangeIndex: 5764 entries, 0 to 5763\n",
      "Data columns (total 19 columns):\n",
      " #   Column           Non-Null Count  Dtype  \n",
      "---  ------           --------------  -----  \n",
      " 0   id               5764 non-null   object \n",
      " 1   customer_id      5764 non-null   object \n",
      " 2   order_date       5764 non-null   object \n",
      " 3   sku_id           5764 non-null   object \n",
      " 4   price            5764 non-null   int64  \n",
      " 5   qty_ordered      5764 non-null   int64  \n",
      " 6   before_discount  5764 non-null   float64\n",
      " 7   discount_amount  5764 non-null   float64\n",
      " 8   after_discount   5764 non-null   float64\n",
      " 9   is_gross         5764 non-null   int64  \n",
      " 10  is_valid         5764 non-null   int64  \n",
      " 11  is_net           5764 non-null   int64  \n",
      " 12  payment_id       5764 non-null   int64  \n",
      " 13  sku_name         5764 non-null   object \n",
      " 14  base_price       5764 non-null   float64\n",
      " 15  cogs             5764 non-null   float64\n",
      " 16  category         5764 non-null   object \n",
      " 17  registered_date  5764 non-null   object \n",
      " 18  payment_method   5764 non-null   object \n",
      "dtypes: float64(5), int64(6), object(8)\n",
      "memory usage: 855.7+ KB\n"
     ]
    }
   ],
   "source": [
    "df_od = pd.read_csv(\"order_detail.csv\")\n",
    "df_sd = pd.read_csv(\"sku_detail.csv\")\n",
    "df_pd = pd.read_csv(\"payment_detail.csv\")\n",
    "df_cd = pd.read_csv(\"customer_detail.csv\")\n",
    "df_sd.rename(columns={'id':'sku_id'}, inplace=True)\n",
    "df_cd.rename(columns={'id':'customer_id'}, inplace=True)\n",
    "df_pd.rename(columns={'id':'payment_id'}, inplace=True)\n",
    "df = pd.DataFrame(df_od\\\n",
    "                  \n",
    "                 .merge(df_sd, how='left', on='sku_id')\\\n",
    "                  \n",
    "                  .merge(df_cd, how='left', on='customer_id')\\\n",
    "                  \n",
    "                  .merge(df_pd, how='left', on='payment_id')\n",
    "                  )\n",
    "\n",
    "df.info()"
   ]
  },
  {
   "cell_type": "code",
   "execution_count": 13,
   "id": "94cb58dd-40aa-4c4f-a25c-51d2ba2dcab5",
   "metadata": {},
   "outputs": [
    {
     "name": "stdout",
     "output_type": "stream",
     "text": [
      "<class 'pandas.core.frame.DataFrame'>\n",
      "RangeIndex: 16 entries, 0 to 15\n",
      "Data columns (total 15 columns):\n",
      " #   Column           Non-Null Count  Dtype  \n",
      "---  ------           --------------  -----  \n",
      " 0   payment_id_x     16 non-null     object \n",
      " 1   payment_method   16 non-null     object \n",
      " 2   id               0 non-null      object \n",
      " 3   customer_id      0 non-null      object \n",
      " 4   order_date       0 non-null      object \n",
      " 5   sku_id           0 non-null      object \n",
      " 6   price            0 non-null      float64\n",
      " 7   qty_ordered      0 non-null      float64\n",
      " 8   before_discount  0 non-null      float64\n",
      " 9   discount_amount  0 non-null      float64\n",
      " 10  after_discount   0 non-null      float64\n",
      " 11  is_gross         0 non-null      float64\n",
      " 12  is_valid         0 non-null      float64\n",
      " 13  is_net           0 non-null      float64\n",
      " 14  payment_id_y     0 non-null      float64\n",
      "dtypes: float64(9), object(6)\n",
      "memory usage: 2.0+ KB\n"
     ]
    }
   ],
   "source": [
    "df_pd['payment_id'] = df_pd['payment_id'].astype(str)\n",
    "df_od['id'] = df_od['id'].astype(str)             \n",
    "df_sample = pd.merge(df_pd, df_od, how='left', left_on='payment_id', right_on='id')\n",
    "df_sample.info()"
   ]
  },
  {
   "cell_type": "code",
   "execution_count": 14,
   "id": "02967b80-c03b-471d-87b7-1aa467b28c4e",
   "metadata": {},
   "outputs": [
    {
     "name": "stdout",
     "output_type": "stream",
     "text": [
      "<class 'pandas.core.frame.DataFrame'>\n",
      "RangeIndex: 5764 entries, 0 to 5763\n",
      "Data columns (total 19 columns):\n",
      " #   Column           Non-Null Count  Dtype         \n",
      "---  ------           --------------  -----         \n",
      " 0   id               5764 non-null   object        \n",
      " 1   customer_id      5764 non-null   object        \n",
      " 2   order_date       5764 non-null   datetime64[ns]\n",
      " 3   sku_id           5764 non-null   object        \n",
      " 4   price            5764 non-null   int64         \n",
      " 5   qty_ordered      5764 non-null   int64         \n",
      " 6   before_discount  5764 non-null   float64       \n",
      " 7   discount_amount  5764 non-null   float64       \n",
      " 8   after_discount   5764 non-null   float64       \n",
      " 9   is_gross         5764 non-null   int64         \n",
      " 10  is_valid         5764 non-null   int64         \n",
      " 11  is_net           5764 non-null   int64         \n",
      " 12  payment_id       5764 non-null   int64         \n",
      " 13  sku_name         5764 non-null   object        \n",
      " 14  base_price       5764 non-null   float64       \n",
      " 15  cogs             5764 non-null   float64       \n",
      " 16  category         5764 non-null   object        \n",
      " 17  registered_date  5764 non-null   datetime64[ns]\n",
      " 18  payment_method   5764 non-null   object        \n",
      "dtypes: datetime64[ns](2), float64(5), int64(6), object(6)\n",
      "memory usage: 855.7+ KB\n"
     ]
    }
   ],
   "source": [
    "for x in ['order_date', 'registered_date']:\n",
    "  df[x] = pd.to_datetime(df[x])\n",
    "\n",
    "df.info()"
   ]
  },
  {
   "cell_type": "code",
   "execution_count": 15,
   "id": "85342794-71e4-4048-9c8d-772d00d5a5d6",
   "metadata": {},
   "outputs": [
    {
     "name": "stdout",
     "output_type": "stream",
     "text": [
      "File successfully saved to D:\\project\\finaldataset.csv\n"
     ]
    }
   ],
   "source": [
    "file_path = r\"D:\\project\\finaldataset.csv\"  \n",
    "df.to_csv(file_path, index=False)\n",
    "print(f\"File successfully saved to {file_path}\")"
   ]
  },
  {
   "cell_type": "code",
   "execution_count": null,
   "id": "e44413d5-8aa5-4ff0-ac59-296ec4231d6b",
   "metadata": {},
   "outputs": [],
   "source": []
  }
 ],
 "metadata": {
  "kernelspec": {
   "display_name": "Python 3 (ipykernel)",
   "language": "python",
   "name": "python3"
  },
  "language_info": {
   "codemirror_mode": {
    "name": "ipython",
    "version": 3
   },
   "file_extension": ".py",
   "mimetype": "text/x-python",
   "name": "python",
   "nbconvert_exporter": "python",
   "pygments_lexer": "ipython3",
   "version": "3.11.7"
  }
 },
 "nbformat": 4,
 "nbformat_minor": 5
}
